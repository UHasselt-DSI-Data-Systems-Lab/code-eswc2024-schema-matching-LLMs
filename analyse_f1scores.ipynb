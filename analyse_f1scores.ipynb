{
 "cells": [
  {
   "cell_type": "code",
   "execution_count": null,
   "id": "42df5d32-21dd-434e-a858-1a7755e0c09f",
   "metadata": {},
   "outputs": [],
   "source": [
    "import numpy as np\n",
    "import pandas as pd\n",
    "from sklearn.metrics import precision_recall_fscore_support"
   ]
  },
  {
   "cell_type": "code",
   "execution_count": null,
   "id": "38e444c0-cf38-4930-9b2f-e86a60f671ab",
   "metadata": {},
   "outputs": [],
   "source": [
    "all_decisions_df = pd.read_csv(\"results/all_decisions_df.csv\")"
   ]
  },
  {
   "cell_type": "code",
   "execution_count": null,
   "id": "66920b19-cf2b-4e1a-9b1d-b09d5b1328e1",
   "metadata": {},
   "outputs": [],
   "source": [
    "scores = []\n",
    "for dataset in all_decisions_df[\"dataset\"].unique():\n",
    "    _dataset_df = all_decisions_df.query(\"dataset == @dataset\").copy()\n",
    "    for task_scope in _dataset_df[\"task_scope\"].unique():\n",
    "        _task_scope_df = _dataset_df.query(\"task_scope == @task_scope\").copy()\n",
    "        for experiment_run in _task_scope_df[\"experiment_run\"].unique():\n",
    "            if task_scope == \"jaro\":\n",
    "                _experiment_df = _task_scope_df\n",
    "            else:\n",
    "                _experiment_df = _task_scope_df.query(\"experiment_run == @experiment_run\").copy()\n",
    "            p, r, f1, _ = precision_recall_fscore_support(\n",
    "                _experiment_df[\"benchmark\"],\n",
    "                _experiment_df[\"decision\"] == \"yes\",\n",
    "                average=\"binary\",\n",
    "                pos_label=True,\n",
    "                zero_division=0.0\n",
    "            )\n",
    "            scores.append({\n",
    "                \"dataset\": dataset,\n",
    "                \"task_scope\": task_scope,\n",
    "                \"experiment_run\": experiment_run,\n",
    "                \"precision\": p,\n",
    "                \"recall\": r,\n",
    "                \"f1-score\": f1,\n",
    "            })\n",
    "\n",
    "scores_df = pd.DataFrame(scores)"
   ]
  },
  {
   "cell_type": "code",
   "execution_count": null,
   "id": "08499c1b-3fc1-481a-98f0-f168e5154f01",
   "metadata": {},
   "outputs": [],
   "source": [
    "def style_larger_jaro(s, props=''):\n",
    "    return np.where(s > s[\"jaro\"], props, '')\n",
    "\n",
    "\n",
    "def highlight_max(s, props=''):\n",
    "    return np.where(s == np.nanmax(s.values), props, '')\n",
    "\n",
    "\n",
    "median_f1_scores = pd.pivot(\n",
    "    scores_df[[\"task_scope\", \"dataset\", \"f1-score\"]].groupby([\"task_scope\", \"dataset\"]).median().reset_index(),\n",
    "    index=\"dataset\",\n",
    "    columns=\"task_scope\",\n",
    "    values=\"f1-score\",\n",
    ")[[\"jaro\", \"1-to-1\", \"1-to-n\", \"n-to-1\", \"n-to-n\"]]\n",
    "\n",
    "median_f1_scores.style.apply(\n",
    "    style_larger_jaro,\n",
    "    props=\"text-decoration:underline\",\n",
    "    axis=\"columns\",\n",
    ").apply(\n",
    "    highlight_max,\n",
    "    props=\"font-weight: bold\",\n",
    "    axis=\"columns\",\n",
    ")"
   ]
  },
  {
   "cell_type": "code",
   "execution_count": null,
   "id": "f0ae43d3-1d89-4ab8-a58a-aaf53d5276b9",
   "metadata": {},
   "outputs": [],
   "source": [
    "import plotly.graph_objects as go\n",
    "\n",
    "values = [row - row[0] for row in median_f1_scores.sort_index(ascending=False).values]\n",
    "fig = go.Figure(\n",
    "    data=go.Heatmap(\n",
    "        x=[\"baseline\", \"1-to-1\", \"1-to-N\", \"N-to-1\", \"N-to-M\"],\n",
    "        y=median_f1_scores.sort_index(ascending=False).index,\n",
    "        z=values,\n",
    "        text=median_f1_scores.sort_index(ascending=False).values,\n",
    "        texttemplate=\"%{text:.3f}\",\n",
    "        textfont={\"size\": 16},\n",
    "        colorscale=\"PRGn\",\n",
    "        zmin=-1.0,\n",
    "        zmax=1.0,\n",
    "        showscale=False,\n",
    "    ),\n",
    "    layout=dict(\n",
    "        title=\"Median F1-scores compared to baseline (green: better, purple: worse)\",\n",
    "        height=600,\n",
    "        width=1000,\n",
    "    ),\n",
    ")\n",
    "fig.show()"
   ]
  },
  {
   "cell_type": "code",
   "execution_count": null,
   "id": "73dc4562-89b0-4c8e-8c78-a8a1eb95e105",
   "metadata": {},
   "outputs": [],
   "source": []
  }
 ],
 "metadata": {
  "kernelspec": {
   "display_name": "Python 3 (ipykernel)",
   "language": "python",
   "name": "python3"
  },
  "language_info": {
   "codemirror_mode": {
    "name": "ipython",
    "version": 3
   },
   "file_extension": ".py",
   "mimetype": "text/x-python",
   "name": "python",
   "nbconvert_exporter": "python",
   "pygments_lexer": "ipython3",
   "version": "3.11.8"
  }
 },
 "nbformat": 4,
 "nbformat_minor": 5
}
