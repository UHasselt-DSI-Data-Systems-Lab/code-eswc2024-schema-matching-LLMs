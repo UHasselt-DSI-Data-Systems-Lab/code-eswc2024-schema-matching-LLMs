{
 "cells": [
  {
   "cell_type": "code",
   "execution_count": null,
   "id": "8685242c-0a11-4df1-a28f-a564cf8578b0",
   "metadata": {},
   "outputs": [],
   "source": [
    "import functools\n",
    "import itertools\n",
    "import os\n",
    "from typing import Dict, List, Optional\n",
    "\n",
    "import pandas as pd\n",
    "import textdistance\n",
    "\n",
    "from fm_matcher.utils.models import Attribute, Parameters, Relation"
   ]
  },
  {
   "cell_type": "code",
   "execution_count": null,
   "id": "12e1a466-42f8-48f5-8c97-1b15dac1dfb7",
   "metadata": {},
   "outputs": [],
   "source": [
    "benchmark = pd.read_csv(\"benchmark/ground_truth.csv\")\n",
    "for side in (\"source\", \"target\"):\n",
    "    benchmark[[f\"{side}_schema\", f\"{side}_relation\", f\"{side}_attribute\"]] = benchmark[side].str.split(\".\", expand=True)\n",
    "    benchmark[side] = benchmark[side].str.lower()\n",
    "benchmark[\"benchmark\"] = True\n",
    "\n",
    "relation_combinations = benchmark[[\"source_relation\", \"target_relation\"]].drop_duplicates().values"
   ]
  },
  {
   "cell_type": "code",
   "execution_count": null,
   "id": "31f483cb-8a3f-411c-8fb3-ade9ca6f103e",
   "metadata": {},
   "outputs": [],
   "source": [
    "@functools.cache\n",
    "def get_description(schema: str, table: str, attribute: Optional[str] = None) -> str:\n",
    "    if attribute:\n",
    "        filename = f\"{schema}_{table}_{attribute}.txt\"\n",
    "    else:\n",
    "        filename = f\"{schema}_table_{table}.txt\"\n",
    "    filename_filter = lambda f: f.lower() == filename.lower()\n",
    "    filename = next(filter(filename_filter, os.listdir(\"schema_documentations\")))\n",
    "    with open(os.path.join(\"schema_documentations\", filename), \"r\") as desc_file:\n",
    "        description = desc_file.read()\n",
    "    return description\n",
    "\n",
    "\n",
    "@functools.cache\n",
    "def get_attributes(schema: str, table: str) -> List[str]:\n",
    "    table_filter = lambda f: f.lower().startswith(f\"{schema}_{table}_\") and f.endswith(\".txt\")\n",
    "    extract_attr_name = lambda f: f[len(f\"{schema}_{table}_\"):-len(\".txt\")]\n",
    "    return [\n",
    "        extract_attr_name(attr_file)\n",
    "        for attr_file in filter(table_filter, os.listdir(\"schema_documentations/\"))\n",
    "    ]\n",
    "\n",
    "\n",
    "@functools.cache\n",
    "def get_relation(schema: str, table: str) -> Relation:\n",
    "    schema, table = schema.lower(), table.lower()\n",
    "    description = get_description(schema, table)\n",
    "    attributes = [\n",
    "        Attribute(\n",
    "            name=attr_name.capitalize(),\n",
    "            description=get_description(schema, table, attr_name),\n",
    "        ) for attr_name in get_attributes(schema, table)\n",
    "    ]\n",
    "    return Relation(\n",
    "        name=table.capitalize(),\n",
    "        description=description,\n",
    "        attributes=attributes,\n",
    "    )\n",
    "\n",
    "\n",
    "parameters = [\n",
    "    Parameters(\n",
    "        source_relation=get_relation(\"mimic\", source),\n",
    "        target_relation=get_relation(\"omop\", target),\n",
    "    ) for source, target in relation_combinations\n",
    "]"
   ]
  },
  {
   "cell_type": "code",
   "execution_count": null,
   "id": "336ed0e4-019a-4170-aa9a-2e7b14d82735",
   "metadata": {},
   "outputs": [],
   "source": [
    "baseline_data = []\n",
    "for param in parameters:\n",
    "    for source, target in itertools.product(param.source_relation.attributes, param.target_relation.attributes):\n",
    "        baseline_data.append({\n",
    "            \"source\": f\"mimic.{param.source_relation.name}.{source.name}\".lower(),\n",
    "            \"source_relation\": param.source_relation.name,\n",
    "            \"source_attribute\": source.name.lower(),\n",
    "            \"target\": f\"omop.{param.target_relation.name}.{target.name}\".lower(),\n",
    "            \"target_relation\": param.target_relation.name,\n",
    "            \"target_attribute\": target.name.lower(),\n",
    "            \"jaro\": textdistance.jaro.normalized_similarity(source.name.lower(), target.name.lower()),\n",
    "        })\n",
    "baseline_df = pd.DataFrame(baseline_data)\n",
    "baseline_df = baseline_df.merge(benchmark[[\"source\", \"target\", \"benchmark\"]], on=[\"source\", \"target\"], how=\"left\").copy()\n",
    "baseline_df[\"benchmark\"] = baseline_df[\"benchmark\"].fillna(False)\n",
    "baseline_df.to_csv(\"results/baseline_results.csv\", index=False)\n",
    "baseline_df"
   ]
  },
  {
   "cell_type": "code",
   "execution_count": null,
   "id": "eb93b7b5-e5bf-4c77-bbad-93d8e673cbfd",
   "metadata": {},
   "outputs": [],
   "source": []
  }
 ],
 "metadata": {
  "kernelspec": {
   "display_name": "Python 3 (ipykernel)",
   "language": "python",
   "name": "python3"
  },
  "language_info": {
   "codemirror_mode": {
    "name": "ipython",
    "version": 3
   },
   "file_extension": ".py",
   "mimetype": "text/x-python",
   "name": "python",
   "nbconvert_exporter": "python",
   "pygments_lexer": "ipython3",
   "version": "3.11.8"
  }
 },
 "nbformat": 4,
 "nbformat_minor": 5
}
