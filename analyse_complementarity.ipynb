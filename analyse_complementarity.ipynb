{
 "cells": [
  {
   "cell_type": "code",
   "execution_count": null,
   "id": "42df5d32-21dd-434e-a858-1a7755e0c09f",
   "metadata": {},
   "outputs": [],
   "source": [
    "import pandas as pd"
   ]
  },
  {
   "cell_type": "code",
   "execution_count": null,
   "id": "38e444c0-cf38-4930-9b2f-e86a60f671ab",
   "metadata": {},
   "outputs": [],
   "source": [
    "all_decisions_df = pd.read_csv(\"results/all_decisions_df.csv\")"
   ]
  },
  {
   "cell_type": "code",
   "execution_count": null,
   "id": "d1ed49eb-f064-42eb-88f2-4754a9565820",
   "metadata": {},
   "outputs": [],
   "source": [
    "complementarity = []\n",
    "for dataset in all_decisions_df[\"dataset\"].unique():\n",
    "    _dataset_df = all_decisions_df.query(\"dataset == @dataset\").copy()\n",
    "    for task_scope in _dataset_df[\"task_scope\"].unique():\n",
    "        _task_scope_df = _dataset_df.query(\"task_scope == @task_scope\").copy()\n",
    "        if task_scope == \"jaro\":\n",
    "            complementarity.append({\n",
    "                \"dataset\": dataset,\n",
    "                \"task_scope\": \"FN\",\n",
    "                \"experiment_run\": 0,\n",
    "                \"count\": _task_scope_df.query(\"benchmark & (decision != 'yes')\").shape[0]\n",
    "            })\n",
    "        else:\n",
    "            for experiment_run in _task_scope_df[\"experiment_run\"].unique():\n",
    "                _experiment_df = _task_scope_df.query(\"experiment_run == @experiment_run\").copy()\n",
    "                _jaro_df = _dataset_df.query(\"task_scope == 'jaro'\").copy()\n",
    "                # TODO!!!\n",
    "                _jaro_FN = set([(p[0], p[1]) for p in _jaro_df.query(\"benchmark & (decision != 'yes')\")[[\"source\", \"target\"]].values])\n",
    "                _llm_P = set([(p[0], p[1]) for p in _experiment_df.query(\"(decision == 'yes')\")[[\"source\", \"target\"]].values])\n",
    "                complementarity.append({\n",
    "                    \"dataset\": dataset,\n",
    "                    \"task_scope\": task_scope,\n",
    "                    \"experiment_run\": experiment_run,\n",
    "                    \"count\": len(_llm_P & _jaro_FN),\n",
    "                })\n",
    "\n",
    "complementarity_df = pd.DataFrame(complementarity)"
   ]
  },
  {
   "cell_type": "code",
   "execution_count": null,
   "id": "44b0e41d-c497-46e0-b1fb-6fc6350234ad",
   "metadata": {},
   "outputs": [],
   "source": [
    "complementarity_table = pd.pivot(\n",
    "    complementarity_df.groupby([\"dataset\", \"task_scope\"])[\"count\"].median().reset_index(),\n",
    "    index=\"dataset\",\n",
    "    columns=\"task_scope\",\n",
    "    values=\"count\",\n",
    ")[[\"FN\", \"1-to-1\", \"1-to-n\", \"n-to-1\", \"n-to-n\"]].astype(int)\n",
    "complementarity_table"
   ]
  },
  {
   "cell_type": "code",
   "execution_count": null,
   "id": "c6a2b608-923a-40f3-b4ff-04bf93af9083",
   "metadata": {},
   "outputs": [],
   "source": [
    "import numpy as np\n",
    "import plotly.graph_objects as go\n",
    "\n",
    "values = []\n",
    "for row in complementarity_table.sort_index(ascending=False).values:\n",
    "    value_row = []\n",
    "    for i, value in enumerate(row):\n",
    "        new_value = 0\n",
    "        if i > 0 and row[0] > 0:\n",
    "            new_value = value / row[0]\n",
    "        value_row.append(new_value)\n",
    "    values.append(value_row)\n",
    "\n",
    "fig = go.Figure(\n",
    "    data=go.Heatmap(\n",
    "        x=[\"baseline FN\", \"1-to-1\", \"1-to-N\", \"N-to-1\", \"N-to-M\"],\n",
    "        y=complementarity_table.sort_index(ascending=False).index,\n",
    "        z=values,\n",
    "        text=complementarity_table.sort_index(ascending=False).values,\n",
    "        texttemplate=\"%{text:d}\",\n",
    "        textfont={\"size\": 16},\n",
    "        colorscale=\"PRGn\",\n",
    "        zmin=-1.0,\n",
    "        zmax=1.0,\n",
    "        showscale=False,\n",
    "    ),\n",
    "    layout=dict(\n",
    "        title=\"Baseline False Negatives (FN) retrieved per task scope (first column shows the baseline FN count)\",\n",
    "        height=600,\n",
    "        width=1000,\n",
    "    ),\n",
    ")\n",
    "fig.show()"
   ]
  },
  {
   "cell_type": "code",
   "execution_count": null,
   "id": "82f1ec0f-b8ef-439e-8386-f6f9ebab2f22",
   "metadata": {},
   "outputs": [],
   "source": []
  }
 ],
 "metadata": {
  "kernelspec": {
   "display_name": "Python 3 (ipykernel)",
   "language": "python",
   "name": "python3"
  },
  "language_info": {
   "codemirror_mode": {
    "name": "ipython",
    "version": 3
   },
   "file_extension": ".py",
   "mimetype": "text/x-python",
   "name": "python",
   "nbconvert_exporter": "python",
   "pygments_lexer": "ipython3",
   "version": "3.11.8"
  }
 },
 "nbformat": 4,
 "nbformat_minor": 5
}
