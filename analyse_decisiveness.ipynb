{
 "cells": [
  {
   "cell_type": "code",
   "execution_count": null,
   "id": "42df5d32-21dd-434e-a858-1a7755e0c09f",
   "metadata": {},
   "outputs": [],
   "source": [
    "import pandas as pd"
   ]
  },
  {
   "cell_type": "code",
   "execution_count": null,
   "id": "38e444c0-cf38-4930-9b2f-e86a60f671ab",
   "metadata": {},
   "outputs": [],
   "source": [
    "all_decisions_df = pd.read_csv(\"results/all_decisions_df.csv\")"
   ]
  },
  {
   "cell_type": "code",
   "execution_count": null,
   "id": "9a787655-ac77-4a5c-b230-3129dd2da01f",
   "metadata": {},
   "outputs": [],
   "source": [
    "decision_counts = pd.pivot(\n",
    "    all_decisions_df.query(\"task_scope != 'jaro'\").groupby(\n",
    "        [\"dataset\", \"task_scope\", \"experiment_run\", \"decision\"]\n",
    "    )[\"benchmark\"].count().reset_index(),\n",
    "    index=[\"dataset\", \"task_scope\", \"experiment_run\"],\n",
    "    columns=\"decision\",\n",
    "    values=[\"benchmark\"],\n",
    ").fillna(0).reset_index()\n",
    "\n",
    "decision_counts[\"decisiveness\"] = (\n",
    "    decision_counts.loc[:, (slice(None), [\"no\", \"yes\"])].sum(axis=\"columns\") /\n",
    "    decision_counts.loc[:, (slice(None), [\"no\", \"unknown\", \"yes\"])].sum(axis=\"columns\")\n",
    ")"
   ]
  },
  {
   "cell_type": "code",
   "execution_count": null,
   "id": "5aa1606c-cc1b-462d-b8c7-239f83ff4eff",
   "metadata": {},
   "outputs": [],
   "source": [
    "decisiveness_table = pd.pivot(\n",
    "    decision_counts.groupby([\"dataset\", \"task_scope\"])[\"decisiveness\"].median().reset_index(),\n",
    "    index=\"dataset\",\n",
    "    columns=\"task_scope\",\n",
    "    values=\"decisiveness\",\n",
    ")[[\"1-to-1\", \"1-to-n\", \"n-to-1\", \"n-to-n\"]]\n",
    "decisiveness_table"
   ]
  },
  {
   "cell_type": "code",
   "execution_count": null,
   "id": "3f327bfa-5dff-40d2-8189-b5cb747d5503",
   "metadata": {},
   "outputs": [],
   "source": [
    "import plotly.graph_objects as go\n",
    "\n",
    "fig = go.Figure(\n",
    "    data=go.Heatmap(\n",
    "        x=[\"1-to-1\", \"1-to-N\", \"N-to-1\", \"N-to-M\"],\n",
    "        y=decisiveness_table.sort_index(ascending=False).index,\n",
    "        z=decisiveness_table.sort_index(ascending=False).values,\n",
    "        text=decisiveness_table.sort_index(ascending=False).values,\n",
    "        texttemplate=\"%{text:.3f}\",\n",
    "        textfont={\"size\": 16},\n",
    "        colorscale=\"PrGn\",\n",
    "        zmin=-1.0,\n",
    "        zmax=1.0,\n",
    "        showscale=False,\n",
    "    ),\n",
    "    layout=dict(\n",
    "        title=\"Median fraction of non-unknown decisions per task scope\",\n",
    "        height=600,\n",
    "        width=1000,\n",
    "    ),\n",
    ")\n",
    "fig.show()"
   ]
  },
  {
   "cell_type": "code",
   "execution_count": null,
   "id": "f0ae43d3-1d89-4ab8-a58a-aaf53d5276b9",
   "metadata": {},
   "outputs": [],
   "source": []
  }
 ],
 "metadata": {
  "kernelspec": {
   "display_name": "Python 3 (ipykernel)",
   "language": "python",
   "name": "python3"
  },
  "language_info": {
   "codemirror_mode": {
    "name": "ipython",
    "version": 3
   },
   "file_extension": ".py",
   "mimetype": "text/x-python",
   "name": "python",
   "nbconvert_exporter": "python",
   "pygments_lexer": "ipython3",
   "version": "3.11.8"
  }
 },
 "nbformat": 4,
 "nbformat_minor": 5
}
